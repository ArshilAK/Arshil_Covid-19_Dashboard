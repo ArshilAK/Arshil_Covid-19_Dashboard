{
 "cells": [
  {
   "cell_type": "code",
   "execution_count": 1,
   "metadata": {},
   "outputs": [
    {
     "ename": "NameError",
     "evalue": "name 'asda' is not defined",
     "output_type": "error",
     "traceback": [
      "\u001b[1;31m---------------------------------------------------------------------------\u001b[0m",
      "\u001b[1;31mNameError\u001b[0m                                 Traceback (most recent call last)",
      "\u001b[1;32m<ipython-input-1-4bbaa6a86649>\u001b[0m in \u001b[0;36m<module>\u001b[1;34m\u001b[0m\n\u001b[1;32m----> 1\u001b[1;33m \u001b[0masda\u001b[0m\u001b[1;33m\u001b[0m\u001b[1;33m\u001b[0m\u001b[0m\n\u001b[0m",
      "\u001b[1;31mNameError\u001b[0m: name 'asda' is not defined"
     ]
    }
   ],
   "source": [
    "asda\n"
   ]
  },
  {
   "cell_type": "code",
   "execution_count": 2,
   "metadata": {},
   "outputs": [
    {
     "name": "stdout",
     "output_type": "stream",
     "text": [
      " Volume in drive C has no label.\n",
      " Volume Serial Number is 2CB5-E617\n",
      "\n",
      " Directory of C:\\Users\\HP\\ads_covid-19\n",
      "\n",
      "05/05/2020  10:59 PM    <DIR>          .\n",
      "05/05/2020  10:59 PM    <DIR>          ..\n",
      "05/02/2020  11:04 PM               471 .env\n",
      "05/02/2020  11:04 PM             1,092 .gitignore\n",
      "05/05/2020  10:59 PM    <DIR>          .ipynb_checkpoints\n",
      "05/02/2020  11:04 PM    <DIR>          data\n",
      "05/02/2020  11:04 PM    <DIR>          docs\n",
      "05/02/2020  11:04 PM                 2 LICENSE\n",
      "05/02/2020  11:04 PM             4,824 Makefile\n",
      "05/02/2020  11:04 PM    <DIR>          models\n",
      "05/02/2020  11:04 PM    <DIR>          notebooks\n",
      "05/02/2020  11:04 PM             2,969 README.md\n",
      "05/02/2020  11:04 PM    <DIR>          references\n",
      "05/02/2020  11:04 PM    <DIR>          reports\n",
      "05/02/2020  11:04 PM               113 requirements.txt\n",
      "05/02/2020  11:04 PM               225 setup.py\n",
      "05/02/2020  11:04 PM    <DIR>          src\n",
      "05/02/2020  11:04 PM               657 test_environment.py\n",
      "05/02/2020  11:04 PM                53 tox.ini\n",
      "05/05/2020  10:59 PM                72 Untitled.ipynb\n",
      "              10 File(s)         10,478 bytes\n",
      "              10 Dir(s)   7,285,166,080 bytes free\n"
     ]
    }
   ],
   "source": [
    "!dir\n"
   ]
  }
 ],
 "metadata": {
  "kernelspec": {
   "display_name": "Python 3",
   "language": "python",
   "name": "python3"
  }
 },
 "nbformat": 4,
 "nbformat_minor": 2
}
