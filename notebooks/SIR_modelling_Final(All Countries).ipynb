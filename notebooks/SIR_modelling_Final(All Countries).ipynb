{
 "cells": [
  {
   "cell_type": "code",
   "execution_count": 1,
   "metadata": {},
   "outputs": [],
   "source": [
    "import pandas as pd\n",
    "import numpy as np\n",
    "import random\n",
    "from datetime import datetime\n",
    "import pandas as pd \n",
    "\n",
    "from scipy import optimize\n",
    "from scipy import integrate\n",
    "import plotly.graph_objects as go\n",
    "\n",
    "%matplotlib inline\n",
    "import matplotlib as mpl\n",
    "import matplotlib.pyplot as plt\n",
    "\n",
    "import seaborn as sns\n",
    "import dash\n",
    "import dash_core_components as dcc\n",
    "import dash_html_components as html\n",
    "from dash.dependencies import Input, Output,State\n",
    "\n",
    "\n",
    "\n",
    "sns.set(style=\"darkgrid\")\n",
    "\n",
    "mpl.rcParams['figure.figsize'] = (16, 9)\n",
    "pd.set_option('display.max_rows', 500)"
   ]
  },
  {
   "cell_type": "code",
   "execution_count": 2,
   "metadata": {},
   "outputs": [
    {
     "data": {
      "text/html": [
       "<div>\n",
       "<style scoped>\n",
       "    .dataframe tbody tr th:only-of-type {\n",
       "        vertical-align: middle;\n",
       "    }\n",
       "\n",
       "    .dataframe tbody tr th {\n",
       "        vertical-align: top;\n",
       "    }\n",
       "\n",
       "    .dataframe thead th {\n",
       "        text-align: right;\n",
       "    }\n",
       "</style>\n",
       "<table border=\"1\" class=\"dataframe\">\n",
       "  <thead>\n",
       "    <tr style=\"text-align: right;\">\n",
       "      <th></th>\n",
       "      <th>date</th>\n",
       "      <th>Canada</th>\n",
       "      <th>France</th>\n",
       "      <th>Australia</th>\n",
       "      <th>China</th>\n",
       "      <th>Denmark</th>\n",
       "      <th>United Kingdom</th>\n",
       "    </tr>\n",
       "  </thead>\n",
       "  <tbody>\n",
       "    <tr>\n",
       "      <th>0</th>\n",
       "      <td>2020-01-22</td>\n",
       "      <td>0</td>\n",
       "      <td>0</td>\n",
       "      <td>0</td>\n",
       "      <td>548</td>\n",
       "      <td>0</td>\n",
       "      <td>0</td>\n",
       "    </tr>\n",
       "    <tr>\n",
       "      <th>1</th>\n",
       "      <td>2020-01-23</td>\n",
       "      <td>0</td>\n",
       "      <td>0</td>\n",
       "      <td>0</td>\n",
       "      <td>643</td>\n",
       "      <td>0</td>\n",
       "      <td>0</td>\n",
       "    </tr>\n",
       "    <tr>\n",
       "      <th>2</th>\n",
       "      <td>2020-01-24</td>\n",
       "      <td>0</td>\n",
       "      <td>2</td>\n",
       "      <td>0</td>\n",
       "      <td>920</td>\n",
       "      <td>0</td>\n",
       "      <td>0</td>\n",
       "    </tr>\n",
       "    <tr>\n",
       "      <th>3</th>\n",
       "      <td>2020-01-25</td>\n",
       "      <td>0</td>\n",
       "      <td>3</td>\n",
       "      <td>0</td>\n",
       "      <td>1406</td>\n",
       "      <td>0</td>\n",
       "      <td>0</td>\n",
       "    </tr>\n",
       "    <tr>\n",
       "      <th>4</th>\n",
       "      <td>2020-01-26</td>\n",
       "      <td>1</td>\n",
       "      <td>3</td>\n",
       "      <td>4</td>\n",
       "      <td>2075</td>\n",
       "      <td>0</td>\n",
       "      <td>0</td>\n",
       "    </tr>\n",
       "  </tbody>\n",
       "</table>\n",
       "</div>"
      ],
      "text/plain": [
       "         date  Canada  France  Australia  China  Denmark  United Kingdom\n",
       "0  2020-01-22       0       0          0    548        0               0\n",
       "1  2020-01-23       0       0          0    643        0               0\n",
       "2  2020-01-24       0       2          0    920        0               0\n",
       "3  2020-01-25       0       3          0   1406        0               0\n",
       "4  2020-01-26       1       3          4   2075        0               0"
      ]
     },
     "execution_count": 2,
     "metadata": {},
     "output_type": "execute_result"
    }
   ],
   "source": [
    "\n",
    "df_analyse=pd.read_csv('../data/processed/COVID_small_flat_table1.csv')  \n",
    "df_analyse.sort_values('date',ascending=True).head()"
   ]
  },
  {
   "cell_type": "code",
   "execution_count": 3,
   "metadata": {},
   "outputs": [],
   "source": [
    "\n",
    "\n",
    "N0=1000000 \n",
    "beta=0.4   \n",
    "gamma=0.1  \n",
    "\n",
    "\n",
    "# condition I0+S0+R0=N0\n",
    "I0=df_analyse.France[35]\n",
    "S0=N0-I0\n",
    "R0=0"
   ]
  },
  {
   "cell_type": "code",
   "execution_count": 4,
   "metadata": {},
   "outputs": [],
   "source": [
    "def SIR_model(SIR,beta,gamma):\n",
    "    ''' Simple SIR model\n",
    "        S: susceptible population\n",
    "        I: infected people\n",
    "        R: recovered people\n",
    "        beta: \n",
    "        \n",
    "        overall condition is that the sum of changes (differnces) sum up to 0\n",
    "        dS+dI+dR=0\n",
    "        S+I+R= N (constant size of population)\n",
    "    \n",
    "    '''\n",
    "    \n",
    "    S,I,R=SIR\n",
    "    dS_dt=-beta*S*I/N0          #S*I is the \n",
    "    dI_dt=beta*S*I/N0-gamma*I\n",
    "    dR_dt=gamma*I\n",
    "    return([dS_dt,dI_dt,dR_dt])"
   ]
  },
  {
   "cell_type": "markdown",
   "metadata": {},
   "source": [
    "# Simulative approach to calculate SIR curves"
   ]
  },
  {
   "cell_type": "code",
   "execution_count": 5,
   "metadata": {},
   "outputs": [],
   "source": [
    "SIR=np.array([S0,I0,R0])\n",
    "propagation_rates=pd.DataFrame(columns={'susceptible':S0,\n",
    "                                        'infected':I0,\n",
    "                                        'recoverd':R0})\n",
    "\n",
    "\n",
    "\n",
    "for each_t in np.arange(100):\n",
    "   \n",
    "    new_delta_vec=SIR_model(SIR,beta,gamma)\n",
    "   \n",
    "    SIR=SIR+new_delta_vec\n",
    "    \n",
    "    propagation_rates=propagation_rates.append({'susceptible':SIR[0],\n",
    "                                                'infected':SIR[1],\n",
    "                                                'recovered':SIR[2]}, ignore_index=True)"
   ]
  },
  {
   "cell_type": "code",
   "execution_count": 6,
   "metadata": {},
   "outputs": [
    {
     "data": {
      "image/png": "[encoded data removed]",
      "text/plain": [
       "<Figure size 1152x648 with 1 Axes>"
      ]
     },
     "metadata": {},
     "output_type": "display_data"
    }
   ],
   "source": [
    "fig, ax1 = plt.subplots(1, 1)\n",
    "\n",
    "ax1.plot(propagation_rates.index,propagation_rates.infected,label='infected',color='k')\n",
    "ax1.plot(propagation_rates.index,propagation_rates.recovered,label='recovered')\n",
    "ax1.plot(propagation_rates.index,propagation_rates.susceptible,label='susceptible')\n",
    "\n",
    "ax1.set_ylim(10, 1000000)\n",
    "ax1.set_yscale('linear')\n",
    "ax1.set_title('Szenario SIR simulations  (demonstration purposes only)',size=16)\n",
    "ax1.set_xlabel('time in days',size=16)\n",
    "ax1.legend(loc='best',\n",
    "           prop={'size': 16});"
   ]
  },
  {
   "cell_type": "markdown",
   "metadata": {},
   "source": [
    "# Fitting the parameters of SIR model"
   ]
  },
  {
   "cell_type": "code",
   "execution_count": 7,
   "metadata": {},
   "outputs": [],
   "source": [
    "ydata = np.array(df_analyse.France[35:])\n",
    "t=np.arange(len(ydata))"
   ]
  },
  {
   "cell_type": "code",
   "execution_count": 8,
   "metadata": {},
   "outputs": [
    {
     "data": {
      "text/plain": [
       "0.4"
      ]
     },
     "execution_count": 8,
     "metadata": {},
     "output_type": "execute_result"
    }
   ],
   "source": [
    "I0=ydata[0]\n",
    "S0=N0-I0\n",
    "R0=0\n",
    "beta"
   ]
  },
  {
   "cell_type": "code",
   "execution_count": 9,
   "metadata": {},
   "outputs": [],
   "source": [
    "def SIR_model_t(SIR,t,beta,gamma):\n",
    "    S,I,R=SIR\n",
    "    dS_dt=-beta*S*I/N0          \n",
    "    dI_dt=beta*S*I/N0-gamma*I\n",
    "    dR_dt=gamma*I\n",
    "    return dS_dt,dI_dt,dR_dt"
   ]
  },
  {
   "cell_type": "code",
   "execution_count": 10,
   "metadata": {},
   "outputs": [],
   "source": [
    "def fit_odeint(x, beta, gamma):\n",
    "    '''\n",
    "    helper function for the integration\n",
    "    '''\n",
    "    return integrate.odeint(SIR_model_t, (S0, I0, R0), t, args=(beta, gamma))[:,1] # we only would like to get dI"
   ]
  },
  {
   "cell_type": "code",
   "execution_count": 11,
   "metadata": {},
   "outputs": [
    {
     "data": {
      "text/plain": [
       "array([1.80000000e+01, 2.42972450e+01, 3.27974332e+01, 4.42711073e+01,\n",
       "       5.97582421e+01, 8.06623850e+01, 1.08877630e+02, 1.46959829e+02,\n",
       "       1.98357365e+02, 2.67722048e+02, 3.61327663e+02, 4.87632902e+02,\n",
       "       6.58037546e+02, 8.87896451e+02, 1.19787605e+03, 1.61576323e+03,\n",
       "       2.17886687e+03, 2.93718697e+03, 3.95756179e+03, 5.32903148e+03,\n",
       "       7.16966019e+03, 9.63500542e+03, 1.29282558e+04, 1.73116810e+04,\n",
       "       2.31183077e+04, 3.07614599e+04, 4.07377888e+04, 5.36166346e+04,\n",
       "       7.00054414e+04, 9.04790002e+04, 1.15462638e+05, 1.45070608e+05,\n",
       "       1.78924176e+05, 2.16005406e+05, 2.54625180e+05, 2.92570719e+05,\n",
       "       3.27434113e+05, 3.57033763e+05, 3.79784946e+05, 3.94898455e+05,\n",
       "       4.02371602e+05, 4.02822407e+05, 3.97256905e+05, 3.86847784e+05,\n",
       "       3.72766962e+05, 3.56081625e+05, 3.37703772e+05, 3.18376978e+05,\n",
       "       2.98685155e+05, 2.79072024e+05, 2.59864126e+05, 2.41293328e+05,\n",
       "       2.23516890e+05, 2.06634447e+05, 1.90701863e+05, 1.75742300e+05,\n",
       "       1.61754905e+05, 1.48721546e+05, 1.36611987e+05, 1.25387831e+05,\n",
       "       1.15005498e+05, 1.05418454e+05, 9.65788693e+04, 8.84388268e+04,\n",
       "       8.09511968e+04, 7.40702515e+04, 6.77520839e+04, 6.19548780e+04,\n",
       "       5.66390681e+04, 5.17674149e+04, 4.73050200e+04, 4.32192961e+04,\n",
       "       3.94799059e+04, 3.60586781e+04, 3.29295098e+04, 3.00682591e+04,\n",
       "       2.74526335e+04, 2.50620770e+04, 2.28776573e+04, 2.08819562e+04,\n",
       "       1.90589632e+04, 1.73939735e+04, 1.58734914e+04, 1.44851389e+04,\n",
       "       1.32175692e+04, 1.20603862e+04, 1.10040692e+04, 1.00399025e+04,\n",
       "       9.15991013e+03, 8.35679577e+03, 7.62388638e+03, 6.95508073e+03,\n",
       "       6.34480168e+03, 5.78795220e+03, 5.27987494e+03, 4.81631504e+03,\n",
       "       4.39338596e+03, 4.00753804e+03, 3.65552979e+03, 3.33440142e+03,\n",
       "       3.04145063e+03, 2.77421050e+03, 2.53042914e+03, 2.30805111e+03,\n",
       "       2.10520043e+03, 1.92016499e+03, 1.75138238e+03, 1.59742682e+03,\n",
       "       1.45699731e+03, 1.32890675e+03, 1.21207201e+03, 1.10550486e+03,\n",
       "       1.00830369e+03, 9.19645952e+02, 8.38781219e+02, 7.65024898e+02,\n",
       "       6.97752473e+02, 6.36394231e+02, 5.80430470e+02, 5.29387121e+02,\n",
       "       4.82831734e+02, 4.40369849e+02, 4.01641644e+02, 3.66318913e+02,\n",
       "       3.34102282e+02, 3.04718682e+02, 2.77919038e+02, 2.53476168e+02,\n",
       "       2.31182852e+02, 2.10850086e+02, 1.92305479e+02, 1.75391792e+02,\n",
       "       1.59965613e+02, 1.45896133e+02, 1.33064046e+02, 1.21360536e+02,\n",
       "       1.10686354e+02, 1.00950976e+02, 9.20718406e+01, 8.39736443e+01,\n",
       "       7.65877057e+01, 6.98513839e+01, 6.37075453e+01, 5.81040818e+01,\n",
       "       5.29934667e+01, 4.83323541e+01, 4.40812090e+01, 4.02039743e+01,\n",
       "       3.66677634e+01, 3.34425822e+01, 3.05010746e+01, 2.78182903e+01,\n",
       "       2.53714736e+01, 2.31398699e+01, 2.11045504e+01, 1.92482506e+01,\n",
       "       1.75552249e+01, 1.60111124e+01, 1.46028154e+01, 1.33183880e+01,\n",
       "       1.21469351e+01, 1.10785200e+01, 1.01040797e+01, 9.21534855e+00,\n",
       "       8.40478785e+00, 7.66552202e+00, 6.99128012e+00, 6.37634288e+00,\n",
       "       5.81549400e+00, 5.30397605e+00, 4.83745000e+00, 4.41195848e+00,\n",
       "       4.02389222e+00, 3.66995936e+00, 3.34715765e+00, 3.05274883e+00,\n",
       "       2.78423556e+00, 2.53934012e+00, 2.31598515e+00, 2.11227599e+00,\n",
       "       1.92648464e+00, 1.75703510e+00, 1.60248997e+00, 1.46153831e+00,\n",
       "       1.33298445e+00, 1.21573792e+00, 1.10880413e+00, 1.01127603e+00,\n",
       "       9.22326283e-01, 8.41200374e-01, 7.67210129e-01, 6.99727911e-01,\n",
       "       6.38181289e-01, 5.82048178e-01, 5.30852421e-01, 4.84159734e-01,\n",
       "       4.41574041e-01, 4.02734096e-01, 3.67310433e-01])"
      ]
     },
     "execution_count": 11,
     "metadata": {},
     "output_type": "execute_result"
    }
   ],
   "source": [
    "# example curve of our differential equationa\n",
    "popt=[0.4,0.1]\n",
    "fit_odeint(t, *popt)"
   ]
  },
  {
   "cell_type": "code",
   "execution_count": 12,
   "metadata": {},
   "outputs": [
    {
     "name": "stderr",
     "output_type": "stream",
     "text": [
      "C:\\Users\\HP\\anaconda3\\lib\\site-packages\\scipy\\integrate\\odepack.py:247: ODEintWarning:\n",
      "\n",
      "Excess work done on this call (perhaps wrong Dfun type). Run with full_output = 1 to get quantitative information.\n",
      "\n",
      "C:\\Users\\HP\\anaconda3\\lib\\site-packages\\ipykernel_launcher.py:3: RuntimeWarning:\n",
      "\n",
      "overflow encountered in double_scalars\n",
      "\n",
      "C:\\Users\\HP\\anaconda3\\lib\\site-packages\\ipykernel_launcher.py:4: RuntimeWarning:\n",
      "\n",
      "overflow encountered in double_scalars\n",
      "\n",
      "C:\\Users\\HP\\anaconda3\\lib\\site-packages\\scipy\\integrate\\odepack.py:247: ODEintWarning:\n",
      "\n",
      "Illegal input detected (internal error). Run with full_output = 1 to get quantitative information.\n",
      "\n"
     ]
    },
    {
     "name": "stdout",
     "output_type": "stream",
     "text": [
      "standard deviation errors :  [0.00220873 0.00187201]  start infect: 18\n",
      "Optimal parameters: beta = 0.10672997300999758  and gamma =  0.033319881903642365\n"
     ]
    }
   ],
   "source": [
    "popt, pcov = optimize.curve_fit(fit_odeint, t, ydata)\n",
    "perr = np.sqrt(np.diag(pcov))\n",
    "    \n",
    "print('standard deviation errors : ',str(perr), ' start infect:',ydata[0])\n",
    "print(\"Optimal parameters: beta =\", popt[0], \" and gamma = \", popt[1])"
   ]
  },
  {
   "cell_type": "code",
   "execution_count": 13,
   "metadata": {},
   "outputs": [],
   "source": [
    "# get the final fitted curve\n",
    "fitted=fit_odeint(t, *popt)"
   ]
  },
  {
   "cell_type": "code",
   "execution_count": 14,
   "metadata": {},
   "outputs": [
    {
     "data": {
      "image/png": "[encoded data removed]",
      "text/plain": [
       "<Figure size 1152x648 with 1 Axes>"
      ]
     },
     "metadata": {},
     "output_type": "display_data"
    },
    {
     "name": "stdout",
     "output_type": "stream",
     "text": [
      "Optimal parameters: beta = 0.10672997300999758  and gamma =  0.033319881903642365\n",
      "Basic Reproduction Number R0  3.203191815584748\n",
      "This ratio is derived as the expected number of new infections (these new infections are sometimes called secondary infections from a single infection in a population where all subjects are susceptible. @wiki\n"
     ]
    }
   ],
   "source": [
    "plt.semilogy(t, ydata, 'o')\n",
    "plt.semilogy(t, fitted)\n",
    "plt.title(\"Fit of SIR model for France cases\")\n",
    "plt.ylabel(\"Population infected\")\n",
    "plt.xlabel(\"Days\")\n",
    "plt.show()\n",
    "print(\"Optimal parameters: beta =\", popt[0], \" and gamma = \", popt[1])\n",
    "print(\"Basic Reproduction Number R0 \" , popt[0]/ popt[1])\n",
    "print(\"This ratio is derived as the expected number of new infections (these new infections are sometimes called secondary infections from a single infection in a population where all subjects are susceptible. @wiki\")"
   ]
  },
  {
   "cell_type": "markdown",
   "metadata": {},
   "source": [
    "# Dynamic beta in SIR (infection rate)"
   ]
  },
  {
   "cell_type": "code",
   "execution_count": 15,
   "metadata": {},
   "outputs": [],
   "source": [
    "t_initial=28\n",
    "t_intro_measures=14\n",
    "t_hold=21\n",
    "t_relax=21\n",
    "\n",
    "beta_max=0.4\n",
    "beta_min=0.11\n",
    "gamma=0.1\n",
    "pd_beta=np.concatenate((np.array(t_initial*[beta_max]),\n",
    "                       np.linspace(beta_max,beta_min,t_intro_measures),\n",
    "                       np.array(t_hold*[beta_min]),\n",
    "                        np.linspace(beta_min,beta_max,t_relax),\n",
    "                       ))"
   ]
  },
  {
   "cell_type": "code",
   "execution_count": 16,
   "metadata": {},
   "outputs": [
    {
     "data": {
      "text/plain": [
       "array([0.4       , 0.4       , 0.4       , 0.4       , 0.4       ,\n",
       "       0.4       , 0.4       , 0.4       , 0.4       , 0.4       ,\n",
       "       0.4       , 0.4       , 0.4       , 0.4       , 0.4       ,\n",
       "       0.4       , 0.4       , 0.4       , 0.4       , 0.4       ,\n",
       "       0.4       , 0.4       , 0.4       , 0.4       , 0.4       ,\n",
       "       0.4       , 0.4       , 0.4       , 0.4       , 0.37769231,\n",
       "       0.35538462, 0.33307692, 0.31076923, 0.28846154, 0.26615385,\n",
       "       0.24384615, 0.22153846, 0.19923077, 0.17692308, 0.15461538,\n",
       "       0.13230769, 0.11      , 0.11      , 0.11      , 0.11      ,\n",
       "       0.11      , 0.11      , 0.11      , 0.11      , 0.11      ,\n",
       "       0.11      , 0.11      , 0.11      , 0.11      , 0.11      ,\n",
       "       0.11      , 0.11      , 0.11      , 0.11      , 0.11      ,\n",
       "       0.11      , 0.11      , 0.11      , 0.11      , 0.1245    ,\n",
       "       0.139     , 0.1535    , 0.168     , 0.1825    , 0.197     ,\n",
       "       0.2115    , 0.226     , 0.2405    , 0.255     , 0.2695    ,\n",
       "       0.284     , 0.2985    , 0.313     , 0.3275    , 0.342     ,\n",
       "       0.3565    , 0.371     , 0.3855    , 0.4       ])"
      ]
     },
     "execution_count": 16,
     "metadata": {},
     "output_type": "execute_result"
    }
   ],
   "source": [
    "pd_beta"
   ]
  },
  {
   "cell_type": "code",
   "execution_count": 17,
   "metadata": {},
   "outputs": [],
   "source": [
    "SIR=np.array([S0,I0,R0])\n",
    "propagation_rates=pd.DataFrame(columns={'susceptible':S0,\n",
    "                                        'infected':I0,\n",
    "                                        'recoverd':R0})\n",
    "\n",
    "\n",
    "\n",
    "for each_beta in pd_beta:\n",
    "   \n",
    "    new_delta_vec=SIR_model(SIR,each_beta,gamma)\n",
    "   \n",
    "    SIR=SIR+new_delta_vec\n",
    "    \n",
    "    propagation_rates=propagation_rates.append({'susceptible':SIR[0],\n",
    "                                                'infected':SIR[1],\n",
    "                                                'recovered':SIR[2]}, ignore_index=True)"
   ]
  },
  {
   "cell_type": "code",
   "execution_count": 18,
   "metadata": {},
   "outputs": [
    {
     "data": {
      "image/png": "[encoded data removed]",
      "text/plain": [
       "<Figure size 1152x648 with 1 Axes>"
      ]
     },
     "metadata": {},
     "output_type": "display_data"
    }
   ],
   "source": [
    "fig, ax1 = plt.subplots(1, 1)\n",
    "\n",
    "ax1.plot(propagation_rates.index,propagation_rates.infected,label='infected',linewidth=3)\n",
    "\n",
    "t_phases=np.array([t_initial,t_intro_measures,t_hold,t_relax]).cumsum()\n",
    "ax1.bar(np.arange(len(ydata)),ydata, width=0.8,label=' current infected France',color='r')\n",
    "ax1.axvspan(0,t_phases[0], facecolor='b', alpha=0.2,label='no measures')\n",
    "ax1.axvspan(t_phases[0],t_phases[1], facecolor='b', alpha=0.3,label='hard measures introduced')\n",
    "ax1.axvspan(t_phases[1],t_phases[2], facecolor='b', alpha=0.4,label='hold measures')\n",
    "ax1.axvspan(t_phases[2],t_phases[3], facecolor='b', alpha=0.5,label='relax measures')\n",
    "ax1.axvspan(t_phases[3],len(propagation_rates.infected), facecolor='b', alpha=0.6,label='repead hard measures')\n",
    "\n",
    "ax1.set_ylim(10, 1.5*max(propagation_rates.infected))\n",
    "ax1.set_yscale('log')\n",
    "ax1.set_title('Scenario SIR simulations  (demonstration purposes only)',size=16)\n",
    "ax1.set_xlabel('time in days',size=16)\n",
    "ax1.legend(loc='best',\n",
    "           prop={'size': 16});"
   ]
  },
  {
   "cell_type": "markdown",
   "metadata": {},
   "source": [
    "# Dynamic Data for whole Data Set"
   ]
  },
  {
   "cell_type": "code",
   "execution_count": null,
   "metadata": {},
   "outputs": [],
   "source": []
  },
  {
   "cell_type": "code",
   "execution_count": 19,
   "metadata": {},
   "outputs": [],
   "source": [
    "data_path='../data/raw/COVID-19/csse_covid_19_data/csse_covid_19_time_series/time_series_covid19_confirmed_global.csv'"
   ]
  },
  {
   "cell_type": "code",
   "execution_count": 20,
   "metadata": {},
   "outputs": [
    {
     "data": {
      "text/html": [
       "<div>\n",
       "<style scoped>\n",
       "    .dataframe tbody tr th:only-of-type {\n",
       "        vertical-align: middle;\n",
       "    }\n",
       "\n",
       "    .dataframe tbody tr th {\n",
       "        vertical-align: top;\n",
       "    }\n",
       "\n",
       "    .dataframe thead th {\n",
       "        text-align: right;\n",
       "    }\n",
       "</style>\n",
       "<table border=\"1\" class=\"dataframe\">\n",
       "  <thead>\n",
       "    <tr style=\"text-align: right;\">\n",
       "      <th></th>\n",
       "      <th>Date</th>\n",
       "      <th>Afghanistan</th>\n",
       "      <th>Albania</th>\n",
       "      <th>Algeria</th>\n",
       "      <th>Andorra</th>\n",
       "      <th>Angola</th>\n",
       "      <th>Antigua and Barbuda</th>\n",
       "      <th>Argentina</th>\n",
       "      <th>Armenia</th>\n",
       "      <th>Australia</th>\n",
       "      <th>...</th>\n",
       "      <th>United Kingdom</th>\n",
       "      <th>Uruguay</th>\n",
       "      <th>Uzbekistan</th>\n",
       "      <th>Venezuela</th>\n",
       "      <th>Vietnam</th>\n",
       "      <th>West Bank and Gaza</th>\n",
       "      <th>Western Sahara</th>\n",
       "      <th>Yemen</th>\n",
       "      <th>Zambia</th>\n",
       "      <th>Zimbabwe</th>\n",
       "    </tr>\n",
       "  </thead>\n",
       "  <tbody>\n",
       "    <tr>\n",
       "      <th>0</th>\n",
       "      <td>1/22/20</td>\n",
       "      <td>0</td>\n",
       "      <td>0</td>\n",
       "      <td>0</td>\n",
       "      <td>0</td>\n",
       "      <td>0</td>\n",
       "      <td>0</td>\n",
       "      <td>0</td>\n",
       "      <td>0</td>\n",
       "      <td>0</td>\n",
       "      <td>...</td>\n",
       "      <td>0</td>\n",
       "      <td>0</td>\n",
       "      <td>0</td>\n",
       "      <td>0</td>\n",
       "      <td>0</td>\n",
       "      <td>0</td>\n",
       "      <td>0</td>\n",
       "      <td>0</td>\n",
       "      <td>0</td>\n",
       "      <td>0</td>\n",
       "    </tr>\n",
       "    <tr>\n",
       "      <th>1</th>\n",
       "      <td>1/23/20</td>\n",
       "      <td>0</td>\n",
       "      <td>0</td>\n",
       "      <td>0</td>\n",
       "      <td>0</td>\n",
       "      <td>0</td>\n",
       "      <td>0</td>\n",
       "      <td>0</td>\n",
       "      <td>0</td>\n",
       "      <td>0</td>\n",
       "      <td>...</td>\n",
       "      <td>0</td>\n",
       "      <td>0</td>\n",
       "      <td>0</td>\n",
       "      <td>0</td>\n",
       "      <td>2</td>\n",
       "      <td>0</td>\n",
       "      <td>0</td>\n",
       "      <td>0</td>\n",
       "      <td>0</td>\n",
       "      <td>0</td>\n",
       "    </tr>\n",
       "    <tr>\n",
       "      <th>2</th>\n",
       "      <td>1/24/20</td>\n",
       "      <td>0</td>\n",
       "      <td>0</td>\n",
       "      <td>0</td>\n",
       "      <td>0</td>\n",
       "      <td>0</td>\n",
       "      <td>0</td>\n",
       "      <td>0</td>\n",
       "      <td>0</td>\n",
       "      <td>0</td>\n",
       "      <td>...</td>\n",
       "      <td>0</td>\n",
       "      <td>0</td>\n",
       "      <td>0</td>\n",
       "      <td>0</td>\n",
       "      <td>2</td>\n",
       "      <td>0</td>\n",
       "      <td>0</td>\n",
       "      <td>0</td>\n",
       "      <td>0</td>\n",
       "      <td>0</td>\n",
       "    </tr>\n",
       "    <tr>\n",
       "      <th>3</th>\n",
       "      <td>1/25/20</td>\n",
       "      <td>0</td>\n",
       "      <td>0</td>\n",
       "      <td>0</td>\n",
       "      <td>0</td>\n",
       "      <td>0</td>\n",
       "      <td>0</td>\n",
       "      <td>0</td>\n",
       "      <td>0</td>\n",
       "      <td>0</td>\n",
       "      <td>...</td>\n",
       "      <td>0</td>\n",
       "      <td>0</td>\n",
       "      <td>0</td>\n",
       "      <td>0</td>\n",
       "      <td>2</td>\n",
       "      <td>0</td>\n",
       "      <td>0</td>\n",
       "      <td>0</td>\n",
       "      <td>0</td>\n",
       "      <td>0</td>\n",
       "    </tr>\n",
       "    <tr>\n",
       "      <th>4</th>\n",
       "      <td>1/26/20</td>\n",
       "      <td>0</td>\n",
       "      <td>0</td>\n",
       "      <td>0</td>\n",
       "      <td>0</td>\n",
       "      <td>0</td>\n",
       "      <td>0</td>\n",
       "      <td>0</td>\n",
       "      <td>0</td>\n",
       "      <td>4</td>\n",
       "      <td>...</td>\n",
       "      <td>0</td>\n",
       "      <td>0</td>\n",
       "      <td>0</td>\n",
       "      <td>0</td>\n",
       "      <td>2</td>\n",
       "      <td>0</td>\n",
       "      <td>0</td>\n",
       "      <td>0</td>\n",
       "      <td>0</td>\n",
       "      <td>0</td>\n",
       "    </tr>\n",
       "  </tbody>\n",
       "</table>\n",
       "<p>5 rows × 189 columns</p>\n",
       "</div>"
      ],
      "text/plain": [
       "      Date  Afghanistan  Albania  Algeria  Andorra  Angola  \\\n",
       "0  1/22/20            0        0        0        0       0   \n",
       "1  1/23/20            0        0        0        0       0   \n",
       "2  1/24/20            0        0        0        0       0   \n",
       "3  1/25/20            0        0        0        0       0   \n",
       "4  1/26/20            0        0        0        0       0   \n",
       "\n",
       "   Antigua and Barbuda  Argentina  Armenia  Australia  ...  United Kingdom  \\\n",
       "0                    0          0        0          0  ...               0   \n",
       "1                    0          0        0          0  ...               0   \n",
       "2                    0          0        0          0  ...               0   \n",
       "3                    0          0        0          0  ...               0   \n",
       "4                    0          0        0          4  ...               0   \n",
       "\n",
       "   Uruguay  Uzbekistan  Venezuela  Vietnam  West Bank and Gaza  \\\n",
       "0        0           0          0        0                   0   \n",
       "1        0           0          0        2                   0   \n",
       "2        0           0          0        2                   0   \n",
       "3        0           0          0        2                   0   \n",
       "4        0           0          0        2                   0   \n",
       "\n",
       "   Western Sahara  Yemen  Zambia  Zimbabwe  \n",
       "0               0      0       0         0  \n",
       "1               0      0       0         0  \n",
       "2               0      0       0         0  \n",
       "3               0      0       0         0  \n",
       "4               0      0       0         0  \n",
       "\n",
       "[5 rows x 189 columns]"
      ]
     },
     "execution_count": 20,
     "metadata": {},
     "output_type": "execute_result"
    }
   ],
   "source": [
    "pd_raw = pd.read_csv(data_path)\n",
    "country_list = pd_raw['Country/Region'].unique()\n",
    "date=pd_raw.columns[4:]\n",
    "df_analyse=pd.DataFrame({'Date':date})\n",
    "\n",
    "for each in country_list:\n",
    "    df_analyse[each] = np.array(pd_raw[pd_raw['Country/Region']==each].iloc[:,4::].sum(axis=0)).T\n",
    "df_analyse.to_csv('../data/raw/COVID-19/csse_covid_19_data/SIR.csv',index=False)\n",
    "\n",
    "df_analyse.sort_values('Date',ascending=True).head()"
   ]
  },
  {
   "cell_type": "code",
   "execution_count": 21,
   "metadata": {},
   "outputs": [
    {
     "name": "stderr",
     "output_type": "stream",
     "text": [
      "C:\\Users\\HP\\anaconda3\\lib\\site-packages\\scipy\\integrate\\odepack.py:247: ODEintWarning:\n",
      "\n",
      "Excess work done on this call (perhaps wrong Dfun type). Run with full_output = 1 to get quantitative information.\n",
      "\n",
      "C:\\Users\\HP\\anaconda3\\lib\\site-packages\\ipykernel_launcher.py:3: RuntimeWarning:\n",
      "\n",
      "overflow encountered in double_scalars\n",
      "\n",
      "C:\\Users\\HP\\anaconda3\\lib\\site-packages\\ipykernel_launcher.py:4: RuntimeWarning:\n",
      "\n",
      "overflow encountered in double_scalars\n",
      "\n",
      "C:\\Users\\HP\\anaconda3\\lib\\site-packages\\ipykernel_launcher.py:5: RuntimeWarning:\n",
      "\n",
      "overflow encountered in double_scalars\n",
      "\n",
      "C:\\Users\\HP\\anaconda3\\lib\\site-packages\\scipy\\integrate\\odepack.py:247: ODEintWarning:\n",
      "\n",
      "Illegal input detected (internal error). Run with full_output = 1 to get quantitative information.\n",
      "\n",
      "C:\\Users\\HP\\anaconda3\\lib\\site-packages\\ipykernel_launcher.py:24: SettingWithCopyWarning:\n",
      "\n",
      "\n",
      "A value is trying to be set on a copy of a slice from a DataFrame.\n",
      "Try using .loc[row_indexer,col_indexer] = value instead\n",
      "\n",
      "See the caveats in the documentation: https://pandas.pydata.org/pandas-docs/stable/user_guide/indexing.html#returning-a-view-versus-a-copy\n",
      "\n",
      "C:\\Users\\HP\\anaconda3\\lib\\site-packages\\ipykernel_launcher.py:4: RuntimeWarning:\n",
      "\n",
      "invalid value encountered in double_scalars\n",
      "\n"
     ]
    }
   ],
   "source": [
    "# set some basic parameters\n",
    "# beta/gamma is denoted as  'basic reproduction number'\n",
    "\n",
    "N0=1000000 #max susceptible population\n",
    "beta=0.4   # infection spread dynamics\n",
    "gamma=0.1  # recovery rate\n",
    "\n",
    "df_data=df_analyse[35:]\n",
    "t=np.arange(df_data.shape[0])\n",
    "# condition I0+S0+R0=N0\n",
    "\n",
    "R0=0\n",
    "for country in df_data.columns[1:]:\n",
    "    y_data=np.array(df_data[df_data[country]>0][country])\n",
    "    t=np.arange(len(y_data))\n",
    "    I0=y_data[0]\n",
    "    S0=N0-I0\n",
    "    popt=[0.4,0.1]\n",
    "    fit_odeint(t, *popt)\n",
    "    popt, pcov = optimize.curve_fit(fit_odeint, t, y_data, maxfev=5000)\n",
    "    perr = np.sqrt(np.diag(pcov))\n",
    "    fitted=fit_odeint(t, *popt)\n",
    "    fitted_pad = np.concatenate((np.zeros(df_data.shape[0]-len(fitted)) ,fitted))\n",
    "    df_data[country + '_fitted'] = fitted_pad\n",
    "\n",
    "df_data = df_data.reset_index(drop=True)\n",
    "df_data.to_csv('../data/processed/SIR_fitted.csv')\n",
    "    \n",
    "    "
   ]
  },
  {
   "cell_type": "code",
   "execution_count": null,
   "metadata": {},
   "outputs": [],
   "source": []
  },
  {
   "cell_type": "code",
   "execution_count": 22,
   "metadata": {},
   "outputs": [],
   "source": [
    "color_list = []\n",
    "for i in range(200):\n",
    "    var = '#%02x%02x%02x'%(random.randint(0,255),random.randint(0,255),random.randint(0,255))\n",
    "    color_list.append(var)"
   ]
  },
  {
   "cell_type": "code",
   "execution_count": null,
   "metadata": {},
   "outputs": [
    {
     "name": "stdout",
     "output_type": "stream",
     "text": [
      "Dash is running on http://127.0.0.1:8050/\n",
      "\n",
      " Warning: This is a development server. Do not use app.run_server\n",
      " in production, use a production WSGI server like gunicorn instead.\n",
      "\n",
      " * Serving Flask app \"__main__\" (lazy loading)\n",
      " * Environment: production\n",
      "   WARNING: This is a development server. Do not use it in a production deployment.\n",
      "   Use a production WSGI server instead.\n",
      " * Debug mode: on\n"
     ]
    }
   ],
   "source": [
    "\n",
    "# creating dashboard app containig plotting of source and fitted SIR curve data for whole dataset\n",
    "fig = go.Figure()\n",
    "app = dash.Dash()\n",
    "app.layout = html.Div([\n",
    "\n",
    "    dcc.Markdown('''\n",
    "    #  Data science dashboard with SIR\n",
    "    \n",
    "    * This dashboard plots two curves for each country:\n",
    "    \n",
    "    The first curve represents the confirmed infected cases along the timeline.\n",
    "    The second curve represents the simulated infected cases after applying the SIR model along the timeline. \n",
    "    \n",
    "    '''),\n",
    "\n",
    "    dcc.Markdown('''\n",
    "    ## Multi-Select Country for visualization\n",
    "    '''),\n",
    "    dcc.Dropdown(\n",
    "        id='country_drop_down',\n",
    "        options=[ {'label': each,'value':each} for each in df_data.columns[1:200]],\n",
    "        value=['India','Germany','France'], # which are pre-selected\n",
    "        multi=True),\n",
    "    dcc.Dropdown(\n",
    "        id='SIR',\n",
    "        options=[ {'label': 'Susceptable','value':'susceptable'}, {'label': 'Infected','value':'infected'}, {'label': 'Recovered','value':'recovered'},],\n",
    "        value='confirmed',\n",
    "        multi=False),\n",
    "    dcc.Graph(figure=fig, id='main_window_slope')])\n",
    "\n",
    "\n",
    "@app.callback(\n",
    "    Output('main_window_slope', 'figure'),\n",
    "    [Input('country_drop_down', 'value')])\n",
    "def update_figure(country_list):\n",
    "    v = 0\n",
    "    my_yaxis={'type':\"log\",'title':'Infected people'}\n",
    "    traces = []\n",
    "    for each in country_list:\n",
    "        traces.append(dict(x=df_data['Date'],y=df_data[each],\n",
    "                                mode='line', line = dict(color = color_list[v]), opacity=1.0,name=each))\n",
    "        traces.append(dict(x=df_data['Date'],\n",
    "                                y=df_data[each+'_fitted'],\n",
    "                                mode='markers',line = dict(color=color_list[v]), opacity=1.0,name=each+'_simulated'))\n",
    "\n",
    "        v = v+1\n",
    "    return {\n",
    "            'data': traces,\n",
    "            'layout': dict (\n",
    "                width=1280,height=720,\n",
    "                xaxis={'title':'Timeline','tickangle':-45,'nticks':20,\n",
    "                'tickfont':dict(size=14,color=\"#0c6887\"),},yaxis=my_yaxis)}\n",
    "\n",
    "if __name__ == '__main__':\n",
    "    app.run_server(debug=True, use_reloader=False)"
   ]
  },
  {
   "cell_type": "code",
   "execution_count": null,
   "metadata": {},
   "outputs": [],
   "source": []
  },
  {
   "cell_type": "code",
   "execution_count": null,
   "metadata": {},
   "outputs": [],
   "source": []
  }
 ],
 "metadata": {
  "kernelspec": {
   "display_name": "Python 3",
   "language": "python",
   "name": "python3"
  },
  "language_info": {
   "codemirror_mode": {
    "name": "ipython",
    "version": 3
   },
   "file_extension": ".py",
   "mimetype": "text/x-python",
   "name": "python",
   "nbconvert_exporter": "python",
   "pygments_lexer": "ipython3",
   "version": "3.6.10"
  }
 },
 "nbformat": 4,
 "nbformat_minor": 4
}
